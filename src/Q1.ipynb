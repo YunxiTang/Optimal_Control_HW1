{
 "cells": [
  {
   "cell_type": "code",
   "execution_count": null,
   "metadata": {},
   "outputs": [],
   "source": [
    "import Pkg; Pkg.activate(joinpath(@__DIR__,\"..\")); Pkg.instantiate();\n",
    "using LinearAlgebra"
   ]
  },
  {
   "cell_type": "markdown",
   "metadata": {},
   "source": [
    "# Question 1: Implicit Integrators (25 pts)\n",
    "In this question we'll be taking a deeper look into implicit integration techniques, and some of the advantages they bring."
   ]
  },
  {
   "cell_type": "markdown",
   "metadata": {},
   "source": [
    "## Part (a): Implicit Midpoint (3 pts)\n",
    "Implement implicit midpoint integration for the simple pendulum with $m = l = 1$ and $g = 9.81$:\n",
    "$$ x_{n+1} = x_n + h f\\left(\\frac{x_{n+1} + x_n}{2}\\right) $$"
   ]
  },
  {
   "cell_type": "code",
   "execution_count": null,
   "metadata": {},
   "outputs": [],
   "source": [
    "# TASK: Implement the `implicit_midpoint_pendulum!` function\n",
    "\"\"\"\n",
    "    x2 = implicit_midpoint_pendulum!(x2, x1, h; [m,l,g])\n",
    "\n",
    "Evaluate the discrete pendulum dynamics with mass `m`, length `l`, and gravity `g` using\n",
    "implicit midpoint:\n",
    "\n",
    "``x_{n+1} = x_n + h f\\\\left(\\\\frac{x_{n+1} + x_n}{2}\\\\right)``\n",
    "\"\"\"\n",
    "function implicit_midpoint_pendulum(x2, x1, h)\n",
    "    # TODO: Implement this method\n",
    "    out = zero(x2)\n",
    "end"
   ]
  },
  {
   "cell_type": "markdown",
   "metadata": {},
   "source": [
    "## Part (b): Solve using Newton's Method (10 pts)\n",
    "Use Newton's method to solve for $x_{n+1}$ with initial guess $x_{n+1} = x_n$. Solve such that the 2-norm of the residual is less than 1e-6. \n",
    "\n",
    "**NOTE**: It should take 5 iterations or less. If it's taking more iterations than that, you're doing something wrong."
   ]
  },
  {
   "cell_type": "code",
   "execution_count": null,
   "metadata": {},
   "outputs": [],
   "source": [
    "# TASK: Complete the following function\n",
    "\"\"\"\n",
    "    implicit_midpoint_solve!(x2,x1,h)\n",
    "\n",
    "Find the `x2` that satisfies implicit midpoint integration for the pendulum dynamics. \n",
    "\n",
    "Should modify `x2` in-place and return a vector of 2-norm residuals. The input value of `x2`\n",
    "should be used as the initial guess.\n",
    "\"\"\"\n",
    "function implicit_midpoint_solve!(x2, x1, h; ϵ=1e-6)::Vector{Float64}\n",
    "    # TODO: Implement this function. Feel free to add optional input arguments as needed\n",
    "    residuals = Float64[]\n",
    "    return residuals\n",
    "end"
   ]
  },
  {
   "cell_type": "markdown",
   "metadata": {},
   "source": [
    "## Part (c): Energy Analysis (2 pts)\n",
    "Simulate with $h=0.1$ for 1 hour and plot the total energy of the system vs time:\n",
    "$$ E = \\frac{1}{2} m l^2 \\omega^2 + m g l (1 - \\cos \\theta) $$\n",
    "\n",
    "Start the simulation with an initial state of 45 degrees and zero velocity."
   ]
  },
  {
   "cell_type": "code",
   "execution_count": null,
   "metadata": {},
   "outputs": [],
   "source": [
    "# TASK: Compute the energy of the system. Store the result in the vector `energy_implicit::Vector{Float64}`\n",
    "using PyPlot\n",
    "energy_implicit = zeros(36001);"
   ]
  },
  {
   "cell_type": "code",
   "execution_count": null,
   "metadata": {},
   "outputs": [],
   "source": [
    "plot(time, energy_implicit)\n",
    "xlabel(\"time\")\n",
    "ylabel(\"Energy\")"
   ]
  },
  {
   "cell_type": "markdown",
   "metadata": {},
   "source": [
    "## Part (d): RK4 Comparison (5 pts)\n",
    "Compare the energy behavior of the implicit midpoint integrator with a 4th order Runge Kutta integrator."
   ]
  },
  {
   "cell_type": "code",
   "execution_count": null,
   "metadata": {},
   "outputs": [],
   "source": [
    "# TASK: implement a 4th order Runge Kutta integrator for the pendulum (3 pts)\n",
    "\"\"\"\n",
    "    rk4(x, h)\n",
    "\n",
    "Integrate the pendulum dynamics with a 4th Order Runge Kutta method at states `x` and time step `h`.\n",
    "\"\"\"\n",
    "function rk4(x, h)\n",
    "    # TODO: implement rk4\n",
    "    xnext = zero(x)\n",
    "    return xnext\n",
    "end"
   ]
  },
  {
   "cell_type": "code",
   "execution_count": null,
   "metadata": {},
   "outputs": [],
   "source": [
    "# TASK: Compute the energy behavior of rk4. Store the result in `energy_rk4::Vector{Float64}` (1 pt)\n",
    "# TASK: Generate a plot of energy vs time comparing implicit midpoint with rk4 (1 pt)\n",
    "energy_rk4 = zeros(36001)"
   ]
  },
  {
   "cell_type": "markdown",
   "metadata": {},
   "source": [
    "## Part (e): Evaluating the Jacobian (5 pts)\n",
    "Computing the Jacobian for an explicit integrator like RK4 is straightforward, since it's just a basic application of the chain rule (you should do this for practice, and can check your result with ForwardDiff). \n",
    "\n",
    "Computing the Jacobian for an implicit integrator is not as trivial since we use Newton's method to compute the next step. However, we can use the [implicit function theorem](https://en.wikipedia.org/wiki/Implicit_function_theorem), which can be easily derived by taking a 1st order Taylor series expansion of $f(x,y) = 0$:\n",
    "$$ f(x,y) = 0 \\implies f(x + \\Delta x, y + \\Delta y) \\approx f(x,y) + \\frac{\\partial f}{\\partial x} \\Delta x + \\frac{\\partial f}{\\partial y} \\Delta y = 0 $$\n",
    "Dropping $f(x,y)$ (since it's zero) and solving for $\\Delta x$ we obtain an expression for our Jacobian:\n",
    "$$ \\Delta x = -\\frac{\\partial f}{\\partial x}^{-1} \\frac{\\partial f}{\\partial y} \\Delta y $$\n",
    "\n",
    "Use this to compute the Jacobian of the implicit integrator, evaluated at $\\theta = \\omega = 0$. "
   ]
  },
  {
   "cell_type": "code",
   "execution_count": null,
   "metadata": {},
   "outputs": [],
   "source": [
    "# TASK: Compute the Jacobian of the implicit midpoint integrator for h = 0.1. (3 pts)\n",
    "#       Store the result in `Amid::Matrix{Float64}` of size (2,2)\n",
    "Amid = zeros(2,2)"
   ]
  },
  {
   "cell_type": "code",
   "execution_count": null,
   "metadata": {},
   "outputs": [],
   "source": [
    "# TASK: Compute the magnitude of the eigenvalues of A for 0 ≤ h ≤ 1.  (1 pt)\n",
    "#       Store the result in `eigs_implicit::Matrix{Float64}` of size (101,2)\n",
    "hs = range(0,100, length=101)\n",
    "eigs_implicit = zeros(101,2)\n",
    "\n",
    "# TASK: Plot the eigenvalues vs time step (1 pt)\n",
    "plot(hs, eigs_implicit)\n",
    "xlabel(\"time step (sec)\")\n",
    "ylabel(\"Magnitude of eigenvalues\")"
   ]
  },
  {
   "cell_type": "markdown",
   "metadata": {},
   "source": [
    "### NOTE:\n",
    "Obviously something special is going on here. Implicit midpoint is a \"symplectic\" integrator. That means it conserves energy (up to numerical roundoff/truncation error). Implicit midpoint is also the simplest \"collocation\" method. More about those later..."
   ]
  }
 ],
 "metadata": {
  "kernelspec": {
   "display_name": "Julia 1.5.3",
   "language": "julia",
   "name": "julia-1.5"
  },
  "language_info": {
   "file_extension": ".jl",
   "mimetype": "application/julia",
   "name": "julia",
   "version": "1.5.3"
  }
 },
 "nbformat": 4,
 "nbformat_minor": 4
}
