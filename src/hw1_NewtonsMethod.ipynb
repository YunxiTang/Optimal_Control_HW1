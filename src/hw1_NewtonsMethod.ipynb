{
 "cells": [
  {
   "cell_type": "code",
   "execution_count": 23,
   "metadata": {},
   "outputs": [
    {
     "name": "stderr",
     "output_type": "stream",
     "text": [
      "\u001b[32m\u001b[1m Activating\u001b[22m\u001b[39m environment at `~/.julia/dev/HW1/Project.toml`\n"
     ]
    }
   ],
   "source": [
    "# Environment/package management. Don't worry about this.\n",
    "import Pkg; Pkg.activate(joinpath(@__DIR__,\"..\")); Pkg.instantiate();"
   ]
  },
  {
   "cell_type": "markdown",
   "metadata": {},
   "source": [
    "# Newton's Method and Julia\n",
    "In this homework we'll be reviewing Newton's method and introducing you to some basic Julia concepts.\n",
    "\n",
    "## Question 1: Julia Review\n",
    "### Q1a: Data types\n",
    "Julia has a lot of different data types, and we'll often ask you to return specific types from your functions. Understanding what types you're using is very important in Julia, since different methods of the same function may be called depending on the types you pass in. This exercise will help you get a little more familiar with the different data types in Julia and how to create them and check the types you're using (hint: use the `typeof` method to check the type of something).\n",
    "\n",
    "For your homework, we will sometimes ask you to store your answers in a specific data type, usually a dictionary. Create a dictionary named `q1a` with the following key-value pairs:\n",
    "* `:double` = a double-precision floating point number\n",
    "* `:single` = a single-precision floating point number\n",
    "* `:vecint` = a vector of integers\n",
    "* `:vecdouble` = a vector of doubles\n",
    "* `:rowvec` = a row vector\n",
    "* `:colvec` = a column vector (any type)\n",
    "* `:matrix2x2` = a 2x2 matrix (any type)\n",
    "* `:tuple` = a tuple of 3 integers\n",
    "* `:set` = a set of 4 integers\n",
    "* `:string` = a string\n",
    "* `:char` = a character\n",
    "* `:symbol` = a symbol\n",
    "* `:dict` = a dictionary mapping with string keys and integer values\n",
    "\n",
    "We've started the dictionary for you below. Note that the keys of this dictionary are `:Symbol`s, and the values are all of different types, so the dictionary type is `Dict{Symbol,Any}`. You may need to refer to the provided Julia cheat sheet or the Julia documentation if you don't know the syntax for creating something."
   ]
  },
  {
   "cell_type": "code",
   "execution_count": 18,
   "metadata": {},
   "outputs": [
    {
     "data": {
      "text/plain": [
       "true"
      ]
     },
     "execution_count": 18,
     "metadata": {},
     "output_type": "execute_result"
    }
   ],
   "source": [
    "# TASK: Fill out the rest of the dictionary (remember to separate the pairs by commas!)\n",
    "q1a = Dict(\n",
    "    :double => 1.2,\n",
    "#     :single =>\n",
    "    :vecint => [1,2,3],\n",
    "#     :vecdouble => \n",
    "#     :rowvec =>\n",
    "#     :colvec =>\n",
    "#     :matrix2x2 =>\n",
    "#     :tuple =>\n",
    "#     :set =>\n",
    "#     :string =>\n",
    "#     :char =>\n",
    "#     :symbol =>\n",
    "#     :dict =>\n",
    ")\n",
    "\n",
    "# some basic tests\n",
    "typeof(q1a[:double]) == Float64\n",
    "size(q1a[:vecint]) == (3,)\n",
    "eltype(q1a[:vecint]) == Int\n",
    "# size(q1a[:matrix2x2]) == (2,2)\n",
    "# q1a[:string] isa String\n",
    "# length(q1a[:tuple]) == 3"
   ]
  },
  {
   "cell_type": "markdown",
   "metadata": {},
   "source": [
    "## Q1b: Functions\n",
    "We'll usually ask you to implement a specific function that will then be run by the auto-grader. Some functions will return a result while others modify their inputs. Note that Julia passes all mutable types by reference. Since immutable types (such as numbers or tuples) cannot be modified, these are effectively passed by value. Functions that modify their inputs should end with a `!`, by convention (e.g. `sort` vs `sort!`). Create the following functions:\n",
    "* A function `doubler` that doubles any numeric input: `doubler(::Number)::Number`\n",
    "* A function `shift` that accepts a vector and a scalar, and returns the vector with the scalar added: `shift(::Vector, ::Real)::Vector`\n",
    "* A function `shift!` that accepts a vector and a scalar, and modifies the vector by adding the scalar to each element: `shift(::Vector, ::Real)`\n",
    "We use the Julia syntax `myfun(::Arg1Type, ::Arg2Type)::ReturnType` to specify the function signatures we expect. You don't need to specify these on your functions, since we won't pass any inputs that don't match these signatures. If we don't specify a return type, it's usually because we expect the function to modify one of it's inputs. We've started the first and third functions for you:"
   ]
  },
  {
   "cell_type": "code",
   "execution_count": 20,
   "metadata": {},
   "outputs": [
    {
     "data": {
      "text/plain": [
       "shift! (generic function with 1 method)"
      ]
     },
     "execution_count": 20,
     "metadata": {},
     "output_type": "execute_result"
    }
   ],
   "source": [
    "# TASK: Define the three functions described above (doubler, shift, and shift!)\n",
    "function doubler(x)\n",
    "    # TODO: your code here\n",
    "    return # your answer\n",
    "end\n",
    "\n",
    "function shift!(vec, a)\n",
    "    # TODO: your code here\n",
    "    return nothing\n",
    "end"
   ]
  },
  {
   "cell_type": "markdown",
   "metadata": {},
   "source": [
    "You may occasionally see functions of the form:\n",
    "```julia\n",
    "f(x) = # some one-line function\n",
    "```\n",
    "which is a convenient way of writing short functions.\n",
    "\n",
    "## Q1c: Package management\n",
    "Julia makes it very easy to install, update, and contribute your own packages to the Julia ecosystem. There are a lot of high-quality packages available. We'll use several as we go through the semester. You only need to install each package once. If you have different environments that require different versions of the same package, Julia will download whatever versions it needs to satisfy the dependency requirements. This all handled by the package manager and (usually) works transparently to the user.\n",
    "\n",
    "Here we'll ask you to install the [BenchmarkTools](https://github.com/JuliaCI/BenchmarkTools.jl) package, which makes it easy to get accurate timing results for your code.\n",
    "\n",
    "**TASK**: Install the `BenchmarkTools` package. You can do this by importing `Pkg` and doing it from within the Jupyter notebook, or by using the package manager in a terminal REPL (recommended)."
   ]
  }
 ],
 "metadata": {
  "kernelspec": {
   "display_name": "Julia 1.5.3",
   "language": "julia",
   "name": "julia-1.5"
  },
  "language_info": {
   "file_extension": ".jl",
   "mimetype": "application/julia",
   "name": "julia",
   "version": "1.5.3"
  }
 },
 "nbformat": 4,
 "nbformat_minor": 4
}
